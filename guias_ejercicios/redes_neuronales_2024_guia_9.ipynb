{
 "cells": [
  {
   "cell_type": "markdown",
   "metadata": {
    "id": "NRYEofSD0xoF"
   },
   "source": [
    "# Perceptron simple\n",
    "\n",
    "Un perceptrón simple está compuesto de una capa pasiva de entrada, y una sola capa activa que también sirve de capa de salida.\n",
    "\n",
    "El input de un perceptron determina el estado de las neuronas pasivas de la capa de entrada, $x_1,...,x_{n_e}$.\n",
    "Se considera, además, una neurona pasiva de estado fijo $x_{n_e+1}=-1$, para que haga las veces de umbral de activación.\n",
    "Ante una entrada $x$, la salida de la red neuronal viene dada por\n",
    "$$\n",
    "y_j(x)\n",
    "=\n",
    "g(h_{j}(x))\n",
    "$$\n",
    "donde\n",
    "$$\n",
    "h_j\n",
    "=\n",
    "\\sum_{i=1}^{n_e+1} w_{ji}x_i\n",
    "$$\n",
    "para $j=1,...,n_s$, y $g$ es una función de activación.\n",
    "Por ejemplo, una ReLU, la cual viene dada por\n",
    "$g(h) = h$ si $h>0$ y $g(h)=0$ si $h\\leq 0$.\n",
    "\n",
    "Para entrenar la red, usamos como función costo el error cuadrático sobre el conjunto de entrenamiento $\\{e_m,s_m:m=1,...,M\\}$, al cuál lo expresamos como una función de $w$\n",
    "$$\n",
    "E(w)\n",
    "=\n",
    "\\frac{1}{2}\n",
    "\\sum_{m=1}^M\n",
    "\\sum_{j=1}^{n_s+1}\n",
    "(y_{jm}(w)-s_{mj})^2\n",
    "$$\n",
    "donde $s_{mj}$ es la salida deseada en la $j$-ésima neurona ante el $m$-ésimo ejemplo, $y_{mj}$ es la salida obtenida en la $j$-esima neurona ante el $m$-ésimo ejemplo, y $n_s$ es el número de neuronas de salida.\n",
    "Por otro lado,\n",
    "$$\n",
    "y_{jm}(w)\n",
    "=\n",
    "g(h_{jm}(w))\n",
    "$$\n",
    "donde\n",
    "$$\n",
    "h_{jm}(w)\n",
    "=\n",
    "\\sum_{i=0}^{n_e}\n",
    "w_{ji}e_{mi}\n",
    "$$\n",
    "Nos interesa calcular el gradiente de $E(w)$\n",
    "\\begin{align*}\n",
    "\\frac{\\partial E}{\\partial w_{pq}}\n",
    "&=&\n",
    "\\sum_{m=1}^M\n",
    "\\sum_{j=1}^{n_s}\n",
    "(y_{jm}(w)-s_{mj})\n",
    "\\frac{\\partial y_{jm}}{\\partial w_{pq}}\n",
    "\\\\\n",
    "&=&\n",
    "\\sum_{m=1}^M\n",
    "\\sum_{j=1}^{n_s}\n",
    "(y_{jm}(w)-s_{mj})\n",
    "g'(h_{jm}(w))\n",
    "\\frac{\\partial h_{jm}}{\\partial w_{pq}}\n",
    "\\\\\n",
    "&=&\n",
    "\\sum_{m=1}^M\n",
    "\\sum_{j=1}^{n_s}\n",
    "(y_{jm}(w)-s_{mj})\n",
    "g'(h_{jm}(w))\n",
    "\\delta_{jp}\n",
    "e_{mq}\n",
    "\\\\\n",
    "&=&\n",
    "\\sum_{m=1}^M\n",
    "(y_{pm}(w)-s_{mp})\n",
    "g'(h_{pm}(w))\n",
    "e_{mq}\n",
    "\\end{align*}\n",
    "puesto que\n",
    "$$\n",
    "\\frac{\\partial h_{jm}}{\\partial w_{pq}}\n",
    "=\n",
    "\\sum_{i=1}^{n_e+1}\n",
    "\\frac{w_{ji}}{w_{pq}}\n",
    "e_{mi}\n",
    "=\n",
    "\\sum_{i=1}^{n_e+1}\n",
    "\\delta_{jp}\n",
    "\\delta_{iq}\n",
    "e_{mi}\n",
    "=\n",
    "\\delta_{jp}\n",
    "e_{mq}\n",
    "$$\n",
    "Recordar que, en el caso de una ReLU, $g'(h)=\\Theta(h)$, donde $\\Theta(h)=1$ si $h>0$ y $\\Theta(h)=0$ si $h\\leq 0$.\n",
    "\n",
    "Para actualizar los pesos sinápticos en la $(\\tau+1)$-ésima época de entrenamiento, utilice la regla\n",
    "$$\n",
    "w^{\\tau}_{ji} \\to w^{\\tau+1}_{ji} = w^{\\tau}_{ji} - \\eta \\frac{\\partial E}{\\partial w_{ji}}\n",
    "$$\n",
    "para todo $ji$."
   ]
  },
  {
   "cell_type": "markdown",
   "metadata": {},
   "source": [
    "## **Ejercicio 1**\n",
    "\n",
    "Genere un conjunto de entrenamiento compuesto por $M$ puntos en $\\mathbb{R}^{n_e}$, distribuidos en $n_s$ nubes de $m_c$ puntos.\n",
    "En total, se generarán $M=\\sum_c m_c$ puntos.\n",
    "\n",
    "Para generar las nubes:\n",
    "\n",
    "* genere aleatoriamente $n_s$ puntos en $\\mathbb{R}^{n_e}$ a los que llamaremos centros, sorteando los valores de las coordenadas a partir de una distribución normal, y\n",
    "\n",
    "* para cada centro $c$, genere $m_c$ puntos aleatorios alrededor del mismo, sumando sus coordenadas a números aleatorios generados con una Gaussiana de varianza $\\sigma^2$.\n",
    "\n",
    "Las $n_e$ coordenadas del $m$-ésimo punto constituirán el vector de entrada del $m$-ésimo ejemplo.\n",
    "La nube a la que pertenece el $m$-ésimo punto determinará el vector de salida del $m$-ésimo ejemplo.\n",
    "Más precisamente, si el $m$-ésimo punto pertenence a la $c$-ésima nube, el vector de salida será el vector canónico $(0,0,...,1,...,0)$ de $n_s$ componentes con un único 1 en la $c$-esima posición.\n",
    "\n",
    "Concretamente\n",
    "\n",
    "1. Genere un conjunto de 8 puntos en $\\mathbb{R}^{n_e}$ con $n_e=2$, divididos en 3 nubes con $m_1=3$ en la primera nube, $m_2=2$ puntos en la segunda nube y $m_3=3$ puntos en la tercera nube. Utilice $\\sigma=0.1$ para indicar la dispersión de los puntos alrededor de cada nube.\n",
    "\n",
    "2. Grafique las nubes de puntos, utilizando un color distinto para cada una de ellas."
   ]
  },
  {
   "cell_type": "markdown",
   "metadata": {},
   "source": [
    "Tengo, $n_e$ = 2, $m_1$ = 3, $m_2$ = 2, $m_3$ = 3 y $\\sigma$ = 0.1, $n_s$ = #cantidad de nubes = 3\n",
    "\n",
    "Es decir, 2 neuronas de entrada, 3 neuronas de salida. "
   ]
  },
  {
   "cell_type": "code",
   "execution_count": 5,
   "metadata": {},
   "outputs": [],
   "source": [
    "import numpy as np\n",
    "import matplotlib.pyplot as plt\n",
    "from tqdm import tqdm"
   ]
  },
  {
   "cell_type": "code",
   "execution_count": 6,
   "metadata": {
    "id": "UjbcNI0a4ac3"
   },
   "outputs": [],
   "source": [
    "# 1.1)\n",
    "def generate_samples(list_m, n_e, sigma=0.1):\n",
    "    \"\"\"  \n",
    "    list_m: cantidad de muestras por clase (nube de puntos).\n",
    "    n_experiments: cantidad de neuronas de entrada. (parametros de la red)\n",
    "\n",
    "    la cantidad de neuronas de salida sera igual a la cantidad de elementos en list_m.\n",
    "    La salida esperada para cada vector de entrenamiento, esta dado por la nube a la que pertence:\n",
    "    - si corresponde a nube 1, la salida esperada sera [1, 0, 0, ..., 0]\n",
    "    - si corresponde a nube 2, la salida esperada sera [0, 1, 0, ..., 0] y asi sucesivamente.\n",
    "    \"\"\"\n",
    "    n_s = len(list_m) # numero de neuronas de salida\n",
    "    centers = np.random.normal(0, 1, (n_s, n_e)) # centros de las nubes de puntos\n",
    "\n",
    "    M = sum(list_m) # numero de muestras de entrenamiento\n",
    "    training_set = np.zeros((M, n_e+1)) # conjunto de entrenamiento de entrada M x n_e\n",
    "    trainning_set_output = np.zeros((M, n_s)) # conjunto de entrenamiento de salida M x n_s (cantidad de ejemplos x cantidad de neuronas de salida)\n",
    "    m = 0\n",
    "    for c in range(n_s): # por cada nube de puntos genero la cantidad de muestras especificadas en list_m a partir de su centro (centres[c])\n",
    "        for i in range(list_m[c]):\n",
    "            traning_vector = centers[c] + np.random.normal(0, sigma, n_e) # genero el vector de entrenamiento a partir del centro, sumandole un ruido gaussiano para cada coordenada\n",
    "            training_set[m] = np.append(traning_vector, -1) # agrego el vector de entrenamiento generado al conjunto de entrenamiento, pero agregandole la columna -1 al final del umbral\n",
    "            trainning_set_output[m] = np.zeros(n_s) # inicializo el vector de salida esperada\n",
    "            trainning_set_output[m][c] = 1 # seteo la salida esperada para el vector de entrenamiento generado segun la nube a la que pertenece\n",
    "            m += 1\n",
    "    return training_set, trainning_set_output"
   ]
  },
  {
   "cell_type": "code",
   "execution_count": 7,
   "metadata": {},
   "outputs": [
    {
     "data": {
      "image/png": "[encoded data removed]",
      "text/plain": [
       "<Figure size 640x480 with 1 Axes>"
      ]
     },
     "metadata": {},
     "output_type": "display_data"
    }
   ],
   "source": [
    "training_set,trainning_set_output = generate_samples([3,2,3], 2, 0.1)\n",
    "# 1.2) Graficar nubes de puntos\n",
    "def plot_samples(training_set, trainning_set_output):\n",
    "    n_s = trainning_set_output.shape[1]\n",
    "    for c in range(n_s):\n",
    "        plt.scatter(training_set[trainning_set_output[:,c] == 1, 0], training_set[trainning_set_output[:,c] == 1, 1], label=f'Nube {c+1}')\n",
    "    plt.xlabel('e_{m,1}')\n",
    "    plt.ylabel('e_{m,2}')\n",
    "    plt.legend()\n",
    "    plt.show()\n",
    "\n",
    "plot_samples(training_set, trainning_set_output)"
   ]
  },
  {
   "cell_type": "markdown",
   "metadata": {},
   "source": [
    "## **Ejercicio 2**\n",
    "\n",
    "Implemente y entrene un **perceptrón simple** sobre el conjunto de entrenamiento generado en el Ejercicio 1.\n",
    "Para entrenarlo, utilice una taza $\\eta=0.02$ y alrededor de 500.000 de épocas o más, según considere necesario.\n",
    "\n",
    "Luego, grafique nuevamente los puntos, pintando el relleno de los mismos con los colores de las nubes asociadas, y el borde de los mismos con el color correspondiente a la predicción."
   ]
  },
  {
   "cell_type": "code",
   "execution_count": 8,
   "metadata": {},
   "outputs": [],
   "source": [
    "def calculate_ecm(training_set, trainning_set_output, w, g_sum):\n",
    "    \"\"\"\n",
    "    Calcula el error cuadratico medio de la red neuronal para un conjunto de entrenamiento y una matriz de pesos  \n",
    "    \"\"\"\n",
    "    ecm = 0\n",
    "    for m in range(training_set.shape[0]):\n",
    "        h_m = np.dot(w, training_set[m]) # calculo la suma ponderada de las entradas\n",
    "        y_m = g_sum(h_m) # calculo la salida de la red\n",
    "        ecm += np.sum((y_m -trainning_set_output[m])**2) # calculo el error cuadratico medio\n",
    "    return 0.5 * ecm"
   ]
  },
  {
   "cell_type": "code",
   "execution_count": 49,
   "metadata": {},
   "outputs": [],
   "source": [
    "def train_perceptron(training_set, training_set_output, training_rate, g_function, dg_function, w=None,epochs=10000):\n",
    "    \"\"\" \n",
    "        training_set: conjunto de entrenamiento de entrada\n",
    "        training_set_output: datos de salida esperados para cada vector de entrenamiento\n",
    "        training_rate: tasa de aprendizaje\n",
    "        g_function: funcion de activacion\n",
    "        dg_function: derivada de la funcion de activacion\n",
    "        w: matriz de pesos de la red\n",
    "        epochs: cantidad de epocas de entrenamiento\n",
    "\n",
    "        Entrena la red neuronal con el algoritmo de aprendizaje del perceptron simple\n",
    "        por medio de descenso de gradient, actualizando los pesos luego de cada epoca de entrenamiento. \n",
    "\n",
    "        Los datos de entrada incluyen una columna extra con el valor -1, que corresponde al umbral de la red.\n",
    "    \"\"\"\n",
    "    n_s = training_set_output.shape[1] # cantidad de neuronas de salida\n",
    "    n_e = training_set.shape[1] # cantidad de neuronas de entrada\n",
    "    training_set_size = training_set.shape[0] # cantidad de vectores de entrenamiento\n",
    "\n",
    "    if w is None:\n",
    "        w = np.random.normal(0, 1, (n_e,n_s)).T # inicializo los pesos de la red\n",
    "    delta_w = np.zeros((n_s, n_e)) # inicializo el delta de aprendizaje\n",
    "    ecm = [] # lista para guardar el error cuadratico medio en cada epoca\n",
    "    for _ in tqdm(range(epochs)):\n",
    "        delta_w.fill(0)\n",
    "        ecm_epoch = 0\n",
    "        for m in range(training_set_size):\n",
    "            h_m = np.dot(w, training_set[m]) # calculo la suma ponderada de las entradas\n",
    "            O_m = g_function(h_m) # salida de la red\n",
    "            delta_w += np.outer(dg_function(h_m) * (training_set_output[m] - O_m), training_set[m])  # calculo el delta de aprendizaje\n",
    "            ecm_epoch += np.sum((O_m - training_set_output[m])**2)\n",
    "        # finalizo epoca, actualizo los pesos.\n",
    "        w += training_rate * delta_w\n",
    "        ecm.append(0.5 * ecm_epoch)\n",
    "    return w, ecm"
   ]
  },
  {
   "cell_type": "code",
   "execution_count": 50,
   "metadata": {},
   "outputs": [],
   "source": [
    "def eval(g_function, w, x):\n",
    "    return g_function(np.dot(w, x))"
   ]
  },
  {
   "cell_type": "code",
   "execution_count": 51,
   "metadata": {},
   "outputs": [],
   "source": [
    "def relu(x):\n",
    "    return np.maximum(0, x)\n",
    "\n",
    "def drelu(x):\n",
    "    if x > 0:\n",
    "        return 1\n",
    "    return 0"
   ]
  },
  {
   "cell_type": "code",
   "execution_count": 59,
   "metadata": {},
   "outputs": [
    {
     "name": "stderr",
     "output_type": "stream",
     "text": [
      "100%|██████████| 100000/100000 [00:28<00:00, 3564.14it/s]\n"
     ]
    }
   ],
   "source": [
    "training_set_ej2, training_set_output_ej2 = generate_samples([3,2,3], 2, 0.1)\n",
    "\n",
    "w_ej2, ecm = train_perceptron(training_set_ej2, training_set_output_ej2, 0.02, relu, np.vectorize(drelu), epochs=100000)"
   ]
  },
  {
   "cell_type": "code",
   "execution_count": 61,
   "metadata": {},
   "outputs": [
    {
     "data": {
      "text/plain": [
       "np.float64(30.54685571859038)"
      ]
     },
     "execution_count": 61,
     "metadata": {},
     "output_type": "execute_result"
    }
   ],
   "source": [
    "calculate_ecm(training_set_ej2, training_set_output_ej2, w_ej2, lambda x:x)"
   ]
  },
  {
   "cell_type": "code",
   "execution_count": null,
   "metadata": {},
   "outputs": [
    {
     "name": "stdout",
     "output_type": "stream",
     "text": [
      "[[ 0.15927127 -0.8144419  -1.10600802]\n",
      " [ 0.43908497  0.96466383  0.01701292]\n",
      " [-0.59835625 -0.15022193  0.0889951 ]]\n",
      "[0.85946108 0.1250659  0.01547302]\n",
      "[0.85946108 0.1250659  0.01547302]\n"
     ]
    },
    {
     "data": {
      "image/png": "[encoded data removed]",
      "text/plain": [
       "<Figure size 1000x500 with 2 Axes>"
      ]
     },
     "metadata": {},
     "output_type": "display_data"
    }
   ],
   "source": [
    "output = np.array([eval(lambda x:x, w_ej2, x) for x in training_set_ej2])\n",
    "print(w_ej2)\n",
    "print(np.dot(w_ej2, training_set_ej2[0]))\n",
    "print(relu(np.dot(w_ej2, training_set_ej2[0])))\n",
    "colors = ['r', 'g', 'b']\n",
    "fig, ax = plt.subplots(1,2,figsize=(10,5))\n",
    "\n",
    "# ECM vs epocas \n",
    "ax[0].plot(ecm)\n",
    "ax[0].set_xlabel('Epocas')\n",
    "ax[0].set_ylabel('ECM')\n",
    "ax[0].set_title('ECM vs Epocas')\n",
    "\n",
    "# puntos de entrenamiento y salida de la red\n",
    "for m in range(training_set_ej2.shape[0]):\n",
    "    ax[1].scatter(training_set_ej2[m, 0], training_set_ej2[m, 1], color=colors[np.argmax(training_set_output_ej2[m])], edgecolors=colors[np.argmax(output[m])])\n",
    "ax[1].set_xlabel('e_{m,1}')\n",
    "ax[1].set_ylabel('e_{m,2}')\n",
    "ax[1].set_title('Puntos de entrenamiento y salida de la red')\n",
    "plt.show()"
   ]
  },
  {
   "cell_type": "markdown",
   "metadata": {},
   "source": [
    "## **Ejercicio 3**\n",
    "\n",
    "La compuerta XOR.\n",
    "\n",
    "El siguiente conjunto de 4 ejemplos:\n",
    "\n",
    "* $e_1 = (0,0)$, $s_1=(1,0)$\n",
    "* $e_2 = (0,1)$, $s_2=(0,1)$\n",
    "* $e_3 = (1,0)$, $s_3=(0,1)$\n",
    "* $e_4 = (1,1)$, $s_4=(1,0)$\n",
    "\n",
    "corresponde a la compuerta XOR.\n",
    "Utilice el **perceptrón simple** implementando para verificar que el mismo no es capáz de aprender este conjunto de ejemplos."
   ]
  },
  {
   "cell_type": "code",
   "execution_count": 15,
   "metadata": {},
   "outputs": [
    {
     "name": "stderr",
     "output_type": "stream",
     "text": [
      " 71%|███████   | 355690/500000 [00:41<00:16, 8630.18it/s]\n"
     ]
    },
    {
     "ename": "KeyboardInterrupt",
     "evalue": "",
     "output_type": "error",
     "traceback": [
      "\u001b[0;31m---------------------------------------------------------------------------\u001b[0m",
      "\u001b[0;31mKeyboardInterrupt\u001b[0m                         Traceback (most recent call last)",
      "Cell \u001b[0;32mIn[15], line 11\u001b[0m\n\u001b[1;32m      2\u001b[0m training_set_ej3 \u001b[38;5;241m=\u001b[39m np\u001b[38;5;241m.\u001b[39marray([[\u001b[38;5;241m0\u001b[39m,\u001b[38;5;241m0\u001b[39m,\u001b[38;5;241m-\u001b[39m\u001b[38;5;241m1\u001b[39m],\n\u001b[1;32m      3\u001b[0m                              [\u001b[38;5;241m0\u001b[39m,\u001b[38;5;241m1\u001b[39m,\u001b[38;5;241m-\u001b[39m\u001b[38;5;241m1\u001b[39m],\n\u001b[1;32m      4\u001b[0m                              [\u001b[38;5;241m1\u001b[39m,\u001b[38;5;241m0\u001b[39m,\u001b[38;5;241m-\u001b[39m\u001b[38;5;241m1\u001b[39m],\n\u001b[1;32m      5\u001b[0m                              [\u001b[38;5;241m1\u001b[39m,\u001b[38;5;241m1\u001b[39m,\u001b[38;5;241m-\u001b[39m\u001b[38;5;241m1\u001b[39m]])\n\u001b[1;32m      6\u001b[0m training_set_output_ej3 \u001b[38;5;241m=\u001b[39m np\u001b[38;5;241m.\u001b[39marray([[\u001b[38;5;241m1\u001b[39m,\u001b[38;5;241m0\u001b[39m],\n\u001b[1;32m      7\u001b[0m                                     [\u001b[38;5;241m0\u001b[39m,\u001b[38;5;241m1\u001b[39m],\n\u001b[1;32m      8\u001b[0m                                     [\u001b[38;5;241m0\u001b[39m,\u001b[38;5;241m1\u001b[39m],\n\u001b[1;32m      9\u001b[0m                                     [\u001b[38;5;241m1\u001b[39m,\u001b[38;5;241m0\u001b[39m]])\n\u001b[0;32m---> 11\u001b[0m w_ej3 \u001b[38;5;241m=\u001b[39m \u001b[43mtrain_perceptron\u001b[49m\u001b[43m(\u001b[49m\u001b[43mtraining_set_ej3\u001b[49m\u001b[43m,\u001b[49m\u001b[43m \u001b[49m\u001b[43mtraining_set_output_ej3\u001b[49m\u001b[43m,\u001b[49m\u001b[43m \u001b[49m\u001b[38;5;241;43m0.02\u001b[39;49m\u001b[43m,\u001b[49m\u001b[43m \u001b[49m\u001b[43mrelu\u001b[49m\u001b[43m,\u001b[49m\u001b[43m \u001b[49m\u001b[43mnp\u001b[49m\u001b[38;5;241;43m.\u001b[39;49m\u001b[43mvectorize\u001b[49m\u001b[43m(\u001b[49m\u001b[43mdrelu\u001b[49m\u001b[43m)\u001b[49m\u001b[43m,\u001b[49m\u001b[43m \u001b[49m\u001b[43mepochs\u001b[49m\u001b[38;5;241;43m=\u001b[39;49m\u001b[38;5;241;43m500000\u001b[39;49m\u001b[43m)\u001b[49m\n",
      "Cell \u001b[0;32mIn[9], line 29\u001b[0m, in \u001b[0;36mtrain_perceptron\u001b[0;34m(training_set, training_set_output, training_rate, g_function, dg_function, w, epochs)\u001b[0m\n\u001b[1;32m     27\u001b[0m     h_m \u001b[38;5;241m=\u001b[39m np\u001b[38;5;241m.\u001b[39mdot(w, training_set[m]) \u001b[38;5;66;03m# calculo la suma ponderada de las entradas\u001b[39;00m\n\u001b[1;32m     28\u001b[0m     O_m \u001b[38;5;241m=\u001b[39m g_function(h_m) \u001b[38;5;66;03m# salida de la red\u001b[39;00m\n\u001b[0;32m---> 29\u001b[0m     delta_w \u001b[38;5;241m+\u001b[39m\u001b[38;5;241m=\u001b[39m np\u001b[38;5;241m.\u001b[39mouter(\u001b[43mdg_function\u001b[49m\u001b[43m(\u001b[49m\u001b[43mh_m\u001b[49m\u001b[43m)\u001b[49m \u001b[38;5;241m*\u001b[39m (training_set_output[m] \u001b[38;5;241m-\u001b[39m O_m), training_set[m])  \u001b[38;5;66;03m# calculo el delta de aprendizaje\u001b[39;00m\n\u001b[1;32m     30\u001b[0m \u001b[38;5;66;03m# finalizo epoca, actualizo los pesos.\u001b[39;00m\n\u001b[1;32m     31\u001b[0m     w \u001b[38;5;241m+\u001b[39m\u001b[38;5;241m=\u001b[39m training_rate \u001b[38;5;241m*\u001b[39m delta_w        \n",
      "File \u001b[0;32m~/.pyenv/versions/3.10.14/envs/LCC/lib/python3.10/site-packages/numpy/lib/_function_base_impl.py:2470\u001b[0m, in \u001b[0;36mvectorize.__call__\u001b[0;34m(self, *args, **kwargs)\u001b[0m\n\u001b[1;32m   2467\u001b[0m     \u001b[38;5;28mself\u001b[39m\u001b[38;5;241m.\u001b[39m_init_stage_2(\u001b[38;5;241m*\u001b[39margs, \u001b[38;5;241m*\u001b[39m\u001b[38;5;241m*\u001b[39mkwargs)\n\u001b[1;32m   2468\u001b[0m     \u001b[38;5;28;01mreturn\u001b[39;00m \u001b[38;5;28mself\u001b[39m\n\u001b[0;32m-> 2470\u001b[0m \u001b[38;5;28;01mreturn\u001b[39;00m \u001b[38;5;28;43mself\u001b[39;49m\u001b[38;5;241;43m.\u001b[39;49m\u001b[43m_call_as_normal\u001b[49m\u001b[43m(\u001b[49m\u001b[38;5;241;43m*\u001b[39;49m\u001b[43margs\u001b[49m\u001b[43m,\u001b[49m\u001b[43m \u001b[49m\u001b[38;5;241;43m*\u001b[39;49m\u001b[38;5;241;43m*\u001b[39;49m\u001b[43mkwargs\u001b[49m\u001b[43m)\u001b[49m\n",
      "File \u001b[0;32m~/.pyenv/versions/3.10.14/envs/LCC/lib/python3.10/site-packages/numpy/lib/_function_base_impl.py:2463\u001b[0m, in \u001b[0;36mvectorize._call_as_normal\u001b[0;34m(self, *args, **kwargs)\u001b[0m\n\u001b[1;32m   2460\u001b[0m     vargs \u001b[38;5;241m=\u001b[39m [args[_i] \u001b[38;5;28;01mfor\u001b[39;00m _i \u001b[38;5;129;01min\u001b[39;00m inds]\n\u001b[1;32m   2461\u001b[0m     vargs\u001b[38;5;241m.\u001b[39mextend([kwargs[_n] \u001b[38;5;28;01mfor\u001b[39;00m _n \u001b[38;5;129;01min\u001b[39;00m names])\n\u001b[0;32m-> 2463\u001b[0m \u001b[38;5;28;01mreturn\u001b[39;00m \u001b[38;5;28;43mself\u001b[39;49m\u001b[38;5;241;43m.\u001b[39;49m\u001b[43m_vectorize_call\u001b[49m\u001b[43m(\u001b[49m\u001b[43mfunc\u001b[49m\u001b[38;5;241;43m=\u001b[39;49m\u001b[43mfunc\u001b[49m\u001b[43m,\u001b[49m\u001b[43m \u001b[49m\u001b[43margs\u001b[49m\u001b[38;5;241;43m=\u001b[39;49m\u001b[43mvargs\u001b[49m\u001b[43m)\u001b[49m\n",
      "File \u001b[0;32m~/.pyenv/versions/3.10.14/envs/LCC/lib/python3.10/site-packages/numpy/lib/_function_base_impl.py:2548\u001b[0m, in \u001b[0;36mvectorize._vectorize_call\u001b[0;34m(self, func, args)\u001b[0m\n\u001b[1;32m   2546\u001b[0m     res \u001b[38;5;241m=\u001b[39m func()\n\u001b[1;32m   2547\u001b[0m \u001b[38;5;28;01melse\u001b[39;00m:\n\u001b[0;32m-> 2548\u001b[0m     ufunc, otypes \u001b[38;5;241m=\u001b[39m \u001b[38;5;28;43mself\u001b[39;49m\u001b[38;5;241;43m.\u001b[39;49m\u001b[43m_get_ufunc_and_otypes\u001b[49m\u001b[43m(\u001b[49m\u001b[43mfunc\u001b[49m\u001b[38;5;241;43m=\u001b[39;49m\u001b[43mfunc\u001b[49m\u001b[43m,\u001b[49m\u001b[43m \u001b[49m\u001b[43margs\u001b[49m\u001b[38;5;241;43m=\u001b[39;49m\u001b[43margs\u001b[49m\u001b[43m)\u001b[49m\n\u001b[1;32m   2550\u001b[0m     \u001b[38;5;66;03m# Convert args to object arrays first\u001b[39;00m\n\u001b[1;32m   2551\u001b[0m     inputs \u001b[38;5;241m=\u001b[39m [asanyarray(a, dtype\u001b[38;5;241m=\u001b[39m\u001b[38;5;28mobject\u001b[39m) \u001b[38;5;28;01mfor\u001b[39;00m a \u001b[38;5;129;01min\u001b[39;00m args]\n",
      "File \u001b[0;32m~/.pyenv/versions/3.10.14/envs/LCC/lib/python3.10/site-packages/numpy/lib/_function_base_impl.py:2472\u001b[0m, in \u001b[0;36mvectorize._get_ufunc_and_otypes\u001b[0;34m(self, func, args)\u001b[0m\n\u001b[1;32m   2468\u001b[0m         \u001b[38;5;28;01mreturn\u001b[39;00m \u001b[38;5;28mself\u001b[39m\n\u001b[1;32m   2470\u001b[0m     \u001b[38;5;28;01mreturn\u001b[39;00m \u001b[38;5;28mself\u001b[39m\u001b[38;5;241m.\u001b[39m_call_as_normal(\u001b[38;5;241m*\u001b[39margs, \u001b[38;5;241m*\u001b[39m\u001b[38;5;241m*\u001b[39mkwargs)\n\u001b[0;32m-> 2472\u001b[0m \u001b[38;5;28;01mdef\u001b[39;00m \u001b[38;5;21m_get_ufunc_and_otypes\u001b[39m(\u001b[38;5;28mself\u001b[39m, func, args):\n\u001b[1;32m   2473\u001b[0m \u001b[38;5;250m    \u001b[39m\u001b[38;5;124;03m\"\"\"Return (ufunc, otypes).\"\"\"\u001b[39;00m\n\u001b[1;32m   2474\u001b[0m     \u001b[38;5;66;03m# frompyfunc will fail if args is empty\u001b[39;00m\n",
      "\u001b[0;31mKeyboardInterrupt\u001b[0m: "
     ]
    }
   ],
   "source": [
    "# set de datos de compuerta XOR\n",
    "training_set_ej3 = np.array([[0,0,-1],\n",
    "                             [0,1,-1],\n",
    "                             [1,0,-1],\n",
    "                             [1,1,-1]])\n",
    "training_set_output_ej3 = np.array([[1,0],\n",
    "                                    [0,1],\n",
    "                                    [0,1],\n",
    "                                    [1,0]])\n",
    "\n",
    "w_ej3 = train_perceptron(training_set_ej3, training_set_output_ej3, 0.02, relu, np.vectorize(drelu), epochs=500000)"
   ]
  },
  {
   "cell_type": "code",
   "execution_count": null,
   "metadata": {},
   "outputs": [
    {
     "name": "stdout",
     "output_type": "stream",
     "text": [
      "[[0.00000000e+00 0.00000000e+00]\n",
      " [5.32907052e-15 0.00000000e+00]\n",
      " [5.32907052e-15 0.00000000e+00]\n",
      " [1.00000000e+00 0.00000000e+00]]\n"
     ]
    },
    {
     "data": {
      "image/png": "[encoded data removed]",
      "text/plain": [
       "<Figure size 640x480 with 1 Axes>"
      ]
     },
     "metadata": {},
     "output_type": "display_data"
    }
   ],
   "source": [
    "output = np.array([eval(relu, w_ej3, x) for x in training_set_ej3])\n",
    "print(output)\n",
    "colors = ['C0', 'C1']\n",
    "n_s = training_set_output_ej3.shape[1]\n",
    "\n",
    "for c in range(n_s):\n",
    "    plt.scatter(training_set_ej3[training_set_output_ej3[:,c] == 1, 0], training_set_ej3[training_set_output_ej3[:,c] == 1, 1], color=colors[c], label=f'cat = {c+1}')\n",
    "\n",
    "for c in range(n_s):\n",
    "    plt.scatter(training_set_ej3[output[:,c] > 0, 0], training_set_ej3[output[:,c] > 0, 1], facecolors='none', edgecolors=colors[c], linewidths=2)\n",
    "\n",
    "plt.xlabel('e_{m,1}')\n",
    "plt.ylabel('e_{m,2}')\n",
    "plt.legend()\n",
    "plt.show()"
   ]
  },
  {
   "cell_type": "code",
   "execution_count": null,
   "metadata": {},
   "outputs": [],
   "source": []
  }
 ],
 "metadata": {
  "colab": {
   "provenance": []
  },
  "kernelspec": {
   "display_name": "FAMAF",
   "language": "python",
   "name": "python3"
  },
  "language_info": {
   "codemirror_mode": {
    "name": "ipython",
    "version": 3
   },
   "file_extension": ".py",
   "mimetype": "text/x-python",
   "name": "python",
   "nbconvert_exporter": "python",
   "pygments_lexer": "ipython3",
   "version": "3.12.0"
  }
 },
 "nbformat": 4,
 "nbformat_minor": 0
}
