{
  "nbformat": 4,
  "nbformat_minor": 0,
  "metadata": {
    "colab": {
      "provenance": []
    },
    "kernelspec": {
      "name": "python3",
      "display_name": "Python 3"
    },
    "language_info": {
      "name": "python"
    }
  },
  "cells": [
    {
      "cell_type": "markdown",
      "source": [
        "# Ajuste de modelos via cuadrados mínimos usando PyTorch\n",
        "\n",
        "## Ejercicio 1)\n",
        "\n",
        "Instale `pytorch` usando el comando de bash"
      ],
      "metadata": {
        "id": "SIJztxJjKYiN"
      }
    },
    {
      "cell_type": "code",
      "source": [
        "!pip3 install torch torchvision torchaudio torchviz"
      ],
      "metadata": {
        "id": "2VM0BpIsKVTa",
        "colab": {
          "base_uri": "https://localhost:8080/"
        },
        "outputId": "f53310cc-a006-432d-a7d1-b6036137a186"
      },
      "execution_count": null,
      "outputs": [
        {
          "output_type": "stream",
          "name": "stdout",
          "text": [
            "Requirement already satisfied: torch in /usr/local/lib/python3.10/dist-packages (2.1.0+cu118)\n",
            "Requirement already satisfied: torchvision in /usr/local/lib/python3.10/dist-packages (0.16.0+cu118)\n",
            "Requirement already satisfied: torchaudio in /usr/local/lib/python3.10/dist-packages (2.1.0+cu118)\n",
            "Collecting torchviz\n",
            "  Downloading torchviz-0.0.2.tar.gz (4.9 kB)\n",
            "  Preparing metadata (setup.py) ... \u001b[?25l\u001b[?25hdone\n",
            "Requirement already satisfied: filelock in /usr/local/lib/python3.10/dist-packages (from torch) (3.13.1)\n",
            "Requirement already satisfied: typing-extensions in /usr/local/lib/python3.10/dist-packages (from torch) (4.5.0)\n",
            "Requirement already satisfied: sympy in /usr/local/lib/python3.10/dist-packages (from torch) (1.12)\n",
            "Requirement already satisfied: networkx in /usr/local/lib/python3.10/dist-packages (from torch) (3.2.1)\n",
            "Requirement already satisfied: jinja2 in /usr/local/lib/python3.10/dist-packages (from torch) (3.1.2)\n",
            "Requirement already satisfied: fsspec in /usr/local/lib/python3.10/dist-packages (from torch) (2023.6.0)\n",
            "Requirement already satisfied: triton==2.1.0 in /usr/local/lib/python3.10/dist-packages (from torch) (2.1.0)\n",
            "Requirement already satisfied: numpy in /usr/local/lib/python3.10/dist-packages (from torchvision) (1.23.5)\n",
            "Requirement already satisfied: requests in /usr/local/lib/python3.10/dist-packages (from torchvision) (2.31.0)\n",
            "Requirement already satisfied: pillow!=8.3.*,>=5.3.0 in /usr/local/lib/python3.10/dist-packages (from torchvision) (9.4.0)\n",
            "Requirement already satisfied: graphviz in /usr/local/lib/python3.10/dist-packages (from torchviz) (0.20.1)\n",
            "Requirement already satisfied: MarkupSafe>=2.0 in /usr/local/lib/python3.10/dist-packages (from jinja2->torch) (2.1.3)\n",
            "Requirement already satisfied: charset-normalizer<4,>=2 in /usr/local/lib/python3.10/dist-packages (from requests->torchvision) (3.3.2)\n",
            "Requirement already satisfied: idna<4,>=2.5 in /usr/local/lib/python3.10/dist-packages (from requests->torchvision) (3.4)\n",
            "Requirement already satisfied: urllib3<3,>=1.21.1 in /usr/local/lib/python3.10/dist-packages (from requests->torchvision) (2.0.7)\n",
            "Requirement already satisfied: certifi>=2017.4.17 in /usr/local/lib/python3.10/dist-packages (from requests->torchvision) (2023.7.22)\n",
            "Requirement already satisfied: mpmath>=0.19 in /usr/local/lib/python3.10/dist-packages (from sympy->torch) (1.3.0)\n",
            "Building wheels for collected packages: torchviz\n",
            "  Building wheel for torchviz (setup.py) ... \u001b[?25l\u001b[?25hdone\n",
            "  Created wheel for torchviz: filename=torchviz-0.0.2-py3-none-any.whl size=4133 sha256=746fa72bda30e9de6e0f4066bcb486d40c8ae4c69d24a318312b299cb0e997ae\n",
            "  Stored in directory: /root/.cache/pip/wheels/4c/97/88/a02973217949e0db0c9f4346d154085f4725f99c4f15a87094\n",
            "Successfully built torchviz\n",
            "Installing collected packages: torchviz\n",
            "Successfully installed torchviz-0.0.2\n"
          ]
        }
      ]
    },
    {
      "cell_type": "markdown",
      "source": [
        "## Ejercicio 2)\n",
        "\n",
        "**1)** Importe librerias `numpy`, `scipy` y `matplotlib`.\n",
        "\n",
        "**2)** Importe librerias de `pytorch`.\n",
        "Para ello, vea el colab `pytorch-tutorial-1-tensores.ipynb`."
      ],
      "metadata": {
        "id": "LJJMIGCFAZqe"
      }
    },
    {
      "cell_type": "code",
      "source": [
        "import numpy as np\n",
        "import scipy as sp\n",
        "import scipy.linalg as linalg\n",
        "import matplotlib.pyplot as plt"
      ],
      "metadata": {
        "id": "A06Xi1kyEsWY"
      },
      "execution_count": null,
      "outputs": []
    },
    {
      "cell_type": "code",
      "source": [
        "import torch\n",
        "from torch import nn\n",
        "from torch.utils.data import Dataset\n",
        "from torch.utils.data import DataLoader\n",
        "from torchvision import datasets\n",
        "from torchvision.transforms import ToTensor, Lambda, Compose\n",
        "from torchviz import make_dot\n",
        "import torch.optim as optim"
      ],
      "metadata": {
        "id": "ljSP8Pw7_1TX"
      },
      "execution_count": null,
      "outputs": []
    },
    {
      "cell_type": "markdown",
      "source": [
        "## Ejercicio 3)\n",
        "\n",
        "Considere una secuencia de mediciones $(x_i,y_i)$ con $i=1,...,m$ de una variable independiente $x$ y una variable dependiente $y$.\n",
        "\n",
        "Considere un modelo\n",
        "\n",
        "$$\n",
        "y = f(x,w) = \\exp(-w_0 x)\\sin(w_1x)\n",
        "$$\n",
        "\n",
        "donde $w=(w_0,w_1)$ es el vector de los parámetros del modelo.\n",
        "\n",
        "**1)** Use `np.linspace` para generar un vector de 20 valores de $x$ en $[0,3]$.\n",
        "\n",
        "**2)** Con $w=(0.5,4)$, use los valores de $x$ para generar un vector de 30 valores de $y$, i.e. un vector de componentes $y_i = f(x_i,w)$.\n",
        "\n",
        "**3)** Genere valores experimentales *sintéticos* agregando ruido al vector $y$ generado en **2)**, agregandole números aleatorios obtenidos de una distribución normal de media $0$ y desviación estandard $0.1$.\n",
        "\n",
        "**4)** Grafique los datos *experimentales* usando puntos.\n",
        "Simultaneamente, grafique la curva *exacta*, interpolando sobre 300 puntos en el mismo rango."
      ],
      "metadata": {
        "id": "UHF6_sIyWlqf"
      }
    },
    {
      "cell_type": "code",
      "source": [
        "# 3.1)"
      ],
      "metadata": {
        "id": "0z1N1L30f882"
      },
      "execution_count": null,
      "outputs": []
    },
    {
      "cell_type": "markdown",
      "source": [
        "## Ejercicio 4)\n",
        "\n",
        "El ajuste de un modelo por cuadrados mínimos, consiste en encontrar el vector de parámetros que minimiza la suma de los cuadrados de las diferencias entre los datos y las predicciones del modelo.\n",
        "Más precisamente, consiste en minimizar\n",
        "\n",
        "$$\n",
        "E(w) = \\sum_i (f(x_i,w)-y_i)^2\n",
        "$$\n",
        "\n",
        "con respecto a $w$.\n",
        "\n",
        "**1)** Minimice $E(w)$ utilizando el algoritmo del descenso por el gradiente.\n",
        "Implemente el algoritmo utilizando `pytorch`. Saque ventaja de la capacidad de `pytorch` de calcular gradientes de manera automática. Utilice un learning rate $\\eta=0.001$ y como valores iniciales de $w$, los originales, pero levemente perturbados con un números aleatorios obtenidos de una distribución normal de media $1$ y desviación estandard $0.25$.\n",
        "\n",
        "**2)** Grafique, utilizando los mismos 300 puntos de antes, la curva ajustada por el algoritmo anterior."
      ],
      "metadata": {
        "id": "U7fM_QE1EgGb"
      }
    },
    {
      "cell_type": "code",
      "source": [
        "# 4.1)"
      ],
      "metadata": {
        "id": "nUe74xkbDjii"
      },
      "execution_count": null,
      "outputs": []
    },
    {
      "cell_type": "markdown",
      "source": [
        "## Ejercicio 5)\n",
        "\n",
        "**1)** Repita el ejercicio anterior, pero ahora ajustando el modelo\n",
        "\n",
        "$$\n",
        "f(x,w) = \\exp(-w_0x+w_2)\\sin(w_1x+w_3)\n",
        "$$\n",
        "\n",
        "i.e. un modelo con dos parámetros ajustables extra.\n",
        "\n",
        "**2)** Calcule el error cuadratico medio de ambos modelos, sobre los 30 puntos de entrenamiento y sobre los 300 puntos del la curva exacta."
      ],
      "metadata": {
        "id": "y2ndT7inqkVt"
      }
    },
    {
      "cell_type": "code",
      "source": [
        "# 5.1)"
      ],
      "metadata": {
        "id": "D2n50ytMVyhD"
      },
      "execution_count": null,
      "outputs": []
    }
  ]
}