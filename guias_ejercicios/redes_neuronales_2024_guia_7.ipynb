{
 "cells": [
  {
   "cell_type": "markdown",
   "metadata": {
    "id": "NRYEofSD0xoF"
   },
   "source": [
    "# Caos II: el mapa logístico\n",
    "\n",
    "## **Ejercicio 1)** Importando librerías\n",
    "\n",
    "Importe las librerías `numpy` para operar con arrays, `scipy` para utilizar rutinas de algebra lineal y `matplotlib.pyplot` para graficar."
   ]
  },
  {
   "cell_type": "code",
   "execution_count": 1,
   "metadata": {
    "id": "I8N3D_nU1_oT"
   },
   "outputs": [],
   "source": [
    "import numpy as np\n",
    "import scipy as sp\n",
    "import scipy.linalg as linalg\n",
    "import matplotlib.pyplot as plt"
   ]
  },
  {
   "cell_type": "markdown",
   "metadata": {
    "id": "NcaGEHAd10sb"
   },
   "source": [
    "## **Ejercicio 2)** El mapa logístico\n",
    "\n",
    "### Teoría\n",
    "\n",
    "#### Dinámicas a tiempo discreto.\n",
    "\n",
    "Nos interesa considerar dinámicas a tiempos discretos.\n",
    "Estas suelen estar determinadas por ecuaciones de la forma\n",
    "\n",
    "\\begin{align}\n",
    "x_{t+1}\n",
    "&=&\n",
    "f(x_t)\n",
    "\\end{align}\n",
    "\n",
    "donde $x_t\\in X$ especifica el estado del sistema para cada tiempo $t\\in\\{0,1,2,...\\}$.\n",
    "\n",
    "Para obtener una trayectoria del sistema anterior, se elige una condición inicial $x_0$ y se itera el mapa para obtener $x_1$, $x_2$, ..., $x_t$, ..., etc.\n",
    "\n",
    "#### Ciclos límites\n",
    "\n",
    "Un punto fijo $x^*$ de una dinámica a tiempos discretos queda definido por la condición\n",
    "\n",
    "\\begin{align}\n",
    "x^*&=&f(x^*)\n",
    "\\end{align}\n",
    "\n",
    "Un ciclo límite de período 2 queda definido por las condiciones\n",
    "\n",
    "\\begin{align}\n",
    "x^*&=&f(f(x^*))\n",
    "\\end{align}\n",
    "\n",
    "y\n",
    "\n",
    "\\begin{align}\n",
    "x^*&\\neq &f(x^*)\n",
    "\\end{align}\n",
    "\n",
    "para algún $x^*$.\n",
    "\n",
    "Más generalmente, un ciclo límite de período $n$ queda definido por las condiciones\n",
    "\n",
    "\\begin{align}\n",
    "x^*&=&f_n(x^*)\n",
    "\\end{align}\n",
    "\n",
    "y\n",
    "\n",
    "\\begin{align}\n",
    "x^*&=&f_{n-1}(x^*)\n",
    "\\end{align}\n",
    "\n",
    "para algún $x^*$, donde $f_n(x) = f(f_{n-1}(x))$ para todo $x$ y $n>1$, y $f_1=f$.\n",
    "\n",
    "#### Estabilidad de los ciclos límites\n",
    "\n",
    "Sea $x^*$ un ciclo límite de período $n$.\n",
    "Luego\n",
    "\n",
    "\\begin{align}\n",
    "x^*+\\epsilon_{t+1}\n",
    "&=&\n",
    "f_n(x^*+\\epsilon_t)\n",
    "\\\\\n",
    "&=&\n",
    "f_n(x^*)\n",
    "+\n",
    "f_n'(x^*)\\epsilon_t\n",
    "+\n",
    "...\n",
    "\\\\\n",
    "&=&\n",
    "x^*\n",
    "+\n",
    "f_n'(x^*)\\epsilon_t\n",
    "+\n",
    "...\n",
    "\\end{align}\n",
    "\n",
    "Entonces\n",
    "\n",
    "\\begin{align}\n",
    "\\epsilon_{t+1}\n",
    "&=&\n",
    "f_n'(x^*)\\epsilon_t\n",
    "+\n",
    "...\n",
    "\\\\\n",
    "\\bigg|\n",
    "\\epsilon_{t+1}\n",
    "\\bigg|\n",
    "&=&\n",
    "\\bigg|\n",
    "f_n'(x^*)\\epsilon_t\n",
    "+\n",
    "...\n",
    "\\bigg|\n",
    "\\\\\n",
    "\\bigg|\n",
    "\\epsilon_{t+1}\n",
    "\\bigg|\n",
    "&\\leq &\n",
    "\\bigg|\n",
    "f_n'(x^*)\\epsilon_t\n",
    "\\bigg|\n",
    "+\n",
    "...\n",
    "\\\\\n",
    "\\bigg|\n",
    "\\epsilon_{t+1}\n",
    "\\bigg|\n",
    "&\\leq &\n",
    "\\bigg|\n",
    "f_n'(x^*)\n",
    "\\bigg|\n",
    "\\bigg|\n",
    "\\epsilon_t\n",
    "\\bigg|\n",
    "+\n",
    "...\n",
    "\\end{align}\n",
    "\n",
    "Entonces, si $\\epsilon_t$ es lo suficientemente chico como para poder despreciar los ordenes superiores, se obtiene que $|\\epsilon_t|$ decrece con $t$ si $|f'(x^*)| < 1$, en cuyo caso se dice que $x^*$ pertenece a un ciclo límite linealmente estable.\n",
    "\n",
    "Por el contrario, $|\\epsilon_t|$ crece con $t$ si $|f'(x^*)| > 1$, en cuyo caso se dice que $x^*$ pertenece a un ciclo límite linealmente inestable.\n",
    "\n",
    "Si $|f'(x^*)| = 1$, se dice que el ciclo límite es linealmente marginal.\n",
    "En cuyo caso se necesitan considerar derivadas de órdenes superiores para poder determinar la estabilidad del ciclo límite.\n",
    "\n",
    "#### El mapa logístico\n",
    "\n",
    "El mapa logístico constituye una ecuación a tiempos discretos en donde $X=[0,1]$,\n",
    "\n",
    "\\begin{align}\n",
    "x_{t+1}\n",
    "&=&\n",
    "f(x_t)\n",
    "\\\\\n",
    "&=&\n",
    "rx_t(1-x_t)\n",
    "\\end{align}\n",
    "\n",
    "y $r\\in [0,4]$ es un parámetro.\n",
    "\n",
    "**1)** Encuentre los puntos fijos (ciclos límite de período 1) de la ecuación logística.\n",
    "\n",
    "**2)** Determine la estabilidad de los mismos.\n",
    "\n",
    "**3)** Compute y grafique 100 pasos temporales de las trayectorias para:\n",
    "\n",
    "&nbsp; &nbsp; **i)** $x_0=0.8$ y $r=1$,\n",
    "\n",
    "&nbsp; &nbsp; **ii)** $x_0=0.1$ y $r=3$, y\n",
    "\n",
    "&nbsp; &nbsp; **iii)** $x_0=0.75$ y $r=3.8$.\n",
    "\n",
    "**4)** Compute y grafique 100 pasos temporales del diagrama de Verhulst para:\n",
    "\n",
    "&nbsp; &nbsp; **i)** $x_0=0.8$ y $r=1.1$,\n",
    "\n",
    "&nbsp; &nbsp; **ii)** $x_0=0.1$ y $r=3.5$, y\n",
    "\n",
    "&nbsp; &nbsp; **iii)** $x_0=0.75$ y $r=3.8$.\n",
    "\n",
    "**5)** Grafique el diagrama de bifurcaciones del mapa logístico.\n",
    "\n",
    "**6)** Grafique el exponente de Lyapunov vs $r$ del mapa logístico. El exponente se define por\n",
    "\n",
    "\\begin{align}\n",
    "\\lambda\n",
    "&=&\n",
    "\\lim_{n\\to \\infty}\n",
    "\\frac{1}{n}\n",
    "\\sum_{t=0}^{n-1}\n",
    "\\ln |f'(x_t)|\n",
    "\\end{align}"
   ]
  },
  {
   "cell_type": "code",
   "execution_count": 2,
   "metadata": {
    "id": "ltfWeHmfr3aU"
   },
   "outputs": [],
   "source": [
    "# 2.1)"
   ]
  },
  {
   "cell_type": "markdown",
   "metadata": {
    "id": "D0RXsB5vR0Gq"
   },
   "source": [
    "## **Ejercicio 3)** El mapa de la carpa\n",
    "\n",
    "Repita el ejercicio **2)** pero para el mapa de la carpa:\n",
    "\n",
    "\\begin{align}\n",
    "x_{t+1}\n",
    "&=&\n",
    "\\bigg\\{\n",
    "\\begin{array}{ll}\n",
    "rx_t & 0\\leq x_t\\leq 1/2, \\\\\n",
    "r(1-x_t) & 1/2\\leq x_t\\leq 1\n",
    "\\end{array}\n",
    "\\end{align}\n",
    "\n",
    "definido para $X=[0,1]$ y $r\\in [0,2]$."
   ]
  },
  {
   "cell_type": "code",
   "execution_count": 3,
   "metadata": {
    "id": "DGdinMW0Ry4h"
   },
   "outputs": [],
   "source": [
    "# 3.1)"
   ]
  },
  {
   "cell_type": "markdown",
   "metadata": {
    "id": "y8Yq3c2uSN-S"
   },
   "source": [
    "## **Ejercicio 4)** El mapa del seno\n",
    "\n",
    "Repita el ejercicio **2)** pero para el mapa del seno:\n",
    "\n",
    "\\begin{align}\n",
    "x_{t+1}\n",
    "=\n",
    "r\\sin(\\pi x_t)\n",
    "\\end{align}\n",
    "\n",
    "definido para $X=[0,1]$ y $r\\in [0,1]$."
   ]
  },
  {
   "cell_type": "code",
   "execution_count": 4,
   "metadata": {
    "id": "-4eY4uClags_"
   },
   "outputs": [],
   "source": [
    "# 4.1)"
   ]
  }
 ],
 "metadata": {
  "colab": {
   "provenance": []
  },
  "kernelspec": {
   "display_name": "LCC",
   "language": "python",
   "name": "python3"
  },
  "language_info": {
   "codemirror_mode": {
    "name": "ipython",
    "version": 3
   },
   "file_extension": ".py",
   "mimetype": "text/x-python",
   "name": "python",
   "nbconvert_exporter": "python",
   "pygments_lexer": "ipython3",
   "version": "3.10.14"
  }
 },
 "nbformat": 4,
 "nbformat_minor": 0
}
