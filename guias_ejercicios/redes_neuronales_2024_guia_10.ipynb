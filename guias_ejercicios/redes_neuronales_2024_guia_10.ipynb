{
 "cells": [
  {
   "cell_type": "markdown",
   "metadata": {
    "id": "NRYEofSD0xoF"
   },
   "source": [
    "# Perceptrón multicapa\n",
    "\n",
    "Consideraremos un perceptrón multicapa, con capas enumeradas por $l=0,1,...,L$.\n",
    "Denotemos por $x^l_i$ el estado de la $i$-ésima neurona en la capa $l$.\n",
    "Diremos que la red posee $n^l$ neuronas $i=1,...,n^l$ en la $l$-ésima capa.\n",
    "En particular, $x^0$ denota el vector de estados de la capa de entrada y $x^L$ el vector de estados de la capa de salida.\n",
    "Se tiene que\n",
    "\n",
    "$$ \\begin{align}\n",
    "x^l_i\n",
    "=\n",
    "g(h^l_i)\n",
    "\\;\\;\\;\\;\\;\\;\\;\\; (1)\n",
    "\\end{align} $$\n",
    "\n",
    "donde $g:\\mathbb{R}\\to \\mathbb{R}$ es una función de activación, por ejemplo una sigmoide $g(h)=1/(1+e^{-h})$, y\n",
    "\n",
    "$$ \\begin{align}\n",
    "h^{l}_i\n",
    "=\n",
    "\\sum_j w^{l}_{ij} x^{l-1}_j\n",
    "\\;\\;\\;\\;\\;\\;\\;\\; (2)\n",
    "\\end{align} $$\n",
    "es el campo local sufrido por la $i$-ésima neurona en la $l$-ésima capa .\n",
    "Además, $w^l_{ij}$ denota la intensidad de la sinapsis que conecta la $j$-ésima neurona en la $(l-1)$-ésima capa con la $i$-ésima neurona en la $l$-ésima capa.\n",
    "Notar, la red depende de las matrices de pesos sinápticos $w^1,w^2,...,w^{L}$.\n",
    "\n",
    "## Umbrales de activación\n",
    "\n",
    "En cada una de las capas $l=0,1,...,L-1$, se agrega una neurona extra $i=n^l+1$ con un estado fijo $x^l_{n^l+1}=-1$.\n",
    "De esta manera, una nueva sinapsis $u^{l}_i:=w^{l}_{i,n^{l-1}+1}$ hace las veces de umbral de activación de la $i$-ésima neurona en la $l$-ésima capa, ya que\n",
    "$$ \\begin{align}\n",
    "h^{l+1}_i\n",
    "=\n",
    "w^{l+1}_{i,n^{l}+1} x^{l}_{n^{l}+1}\n",
    "+\n",
    "\\sum_{j=1}^{n^l} w^{l+1}_{ij} x^{l}_j\n",
    "=\n",
    "-\n",
    "u^{l+1}_i\n",
    "+\n",
    "\\sum_{j=1}^{n^l} w^{l+1}_{ij} x^l_j\n",
    "\\;\\;\\;\\;\\;\\;\\;\\; (3)\n",
    "\\end{align} $$\n",
    "\n",
    "## Conjunto de entrenamiento\n",
    "\n",
    "Los datos de entrenamiento consisten en un conjunto de pares $\\{(e^m,s^m):m=1,...,M\\}$ donde $e^m\\in \\mathbb{R}^{n_0}$ y $s^m\\in \\mathbb{R}^{n_L}$ son vectores que representan el $m$-ésimo par de entrada-salida o *ejemplo* que debe aprender la red.\n",
    "\n",
    "## Función costo: el Error Cuadrático\n",
    "\n",
    "Si pensamos que la salida de la red es una función de la entrada, i.e. que $x^L(x^0)$, podemos evaluar el error que comete la red sobre el conjunto de entramiento utilizando el *error cuadrático*\n",
    "$$\n",
    "E\n",
    "=\n",
    "\\sum_{m=1}^M F^m\n",
    "$$\n",
    "como *función costo*, donde\n",
    "$$\n",
    "F^m\n",
    "=\n",
    "\\frac{1}{2}\n",
    "\\sum_{i=1}^{n^L}\n",
    "(x^L_i(x^0=e^m) - s^m_i)^2\n",
    "$$\n",
    "es el error cuadrático que comete la red sobre el $m$-ésimo ejemplo.\n",
    "\n",
    "## Entrenamiento: descenso por el gradiente\n",
    "\n",
    "Entrenar la red consisten en encontrar valores de los pesos sinápticos $w^l_{ij}$ que minimicen el error $E$.\n",
    "Para ello, expresamos el error en función de dichos pesos y calculamos las componentes de su gradiente\n",
    "$$\n",
    "\\frac{\\partial E}{\\partial w^l_{ij}}\n",
    "=\n",
    "\\sum_m\n",
    "\\frac{\\partial F^m}{\\partial w^l_{ij}}\n",
    "$$\n",
    "De esta manera, podemos utilizar el algoritmo de descenso por el gradiente para actualizar los pesos hasta que el error alcance un mínimo global.\n",
    "Más precisamente, partiendo de valores aleatorios\n",
    "$(w^l_{ij})^0$ para los pesos sinápticos, actualizamos iterativamente a los mismos con la siguiente regla\n",
    "$$ \\begin{align}\n",
    "(w^l_{ij})^{t+1} = (w^l_{ij})^t-\\eta \\frac{\\partial F^m}{\\partial w^l_{ij}}((w^l_{ij})^t)\n",
    "\\;\\;\\;\\;\\;\\;\\;\\; (4)\n",
    "\\end{align} $$\n",
    "para todo $l$, $ij$ y $m$, donde el parámetro $0<\\eta\\ll 1$ controla la tasa de aprendizaje.\n",
    "La iteración se detiene cuando ya no se advierten reducciones significativas del error $E$.\n",
    "\n",
    "## Cálculo del gradiente del error cuadrático\n",
    "\n",
    "Con el fin de simplificar la notación, elegimos un valor arbitrario de $m$ y obviamos la dependencia de las expresiones con éste índice.\n",
    "\n",
    "Notar que los vectores $x^l$ y $h^l$ sólo dependen de las matrices $w^1,...,w^{l}$.\n",
    "De esta manera, observamos que\n",
    "\n",
    "$$ \\begin{align}\n",
    "\\frac{\\partial x^l_i}{\\partial w^r_{pq}}\n",
    "&=&\n",
    "g'(h^l_i)\n",
    "\\frac{\\partial h^l_i}{\\partial w^r_{pq}}\n",
    "\\nonumber\n",
    "\\end{align} $$\n",
    "si $r\\leq l$, y\n",
    "$$\n",
    "\\frac{\\partial x^l_i}{\\partial w^r_{pq}}=0\n",
    "$$\n",
    "en caso contrario.\n",
    "Por otro lado,\n",
    "$$ \\begin{align}\n",
    "\\frac{\\partial h^{l}_i}{\\partial w^r_{pq}}\n",
    "&=&\n",
    "\\frac{\\partial}{\\partial w^r_{pq}}\n",
    "\\bigg(\n",
    "\\sum_j w^{l}_{ij} x^{l-1}_j\n",
    "\\bigg)\n",
    "\\nonumber\n",
    "\\\\\n",
    "&=&\n",
    "\\sum_j w^{l}_{ij}\n",
    "\\frac{\\partial x^{l-1}_j}{\\partial w^r_{pq}}\n",
    "\\nonumber\n",
    "\\end{align} $$\n",
    "si $r<l$, y\n",
    "$$\n",
    "\\frac{\\partial h^l_i}{\\partial w^{l}_{pq}}\n",
    "=\n",
    "\\sum_j\n",
    "\\delta_{ip}\n",
    "\\delta_{jq}\n",
    "x^{l-1}_j\n",
    "=\n",
    "\\delta_{ip}\n",
    "x^{l-1}_q\n",
    "$$\n",
    "Con estas ecuaciones se pueden establecer una relación de recurrencia que nos permite calcular las componentes del gradiente de $F$.\n",
    "A saber\n",
    "$$ \\begin{align}\n",
    "\\frac{\\partial F}{\\partial w^r_{pq}}\n",
    "&=&\n",
    "\\sum_i (x^L_i-s_i)\n",
    "\\frac{\\partial x^L}{\\partial w^r_{pq}}\n",
    "\\nonumber\n",
    "\\\\\n",
    "&=&\n",
    "\\sum_i (x^L_i-s_i)\n",
    "g'(h^L_i)\n",
    "\\frac{\\partial h^L_i}{\\partial w^r_{pq}}\n",
    "\\nonumber\n",
    "\\\\\n",
    "&=&\n",
    "\\sum_i\n",
    "D^L_i\n",
    "\\frac{\\partial h^L_i}{\\partial w^r_{pq}}\n",
    "\\nonumber\n",
    "\\\\\n",
    "&=&\n",
    "\\sum_i\n",
    "D^L_i\n",
    "\\sum_j\n",
    "w^L_{ij}\n",
    "\\frac{\\partial x^{L-1}_i}{\\partial w^r_{pq}}\n",
    "\\nonumber\n",
    "\\\\\n",
    "&=&\n",
    "\\sum_i\n",
    "D^L_i\n",
    "\\sum_j\n",
    "w^L_{ij}\n",
    "g'(h^{L-1}_j)\n",
    "\\frac{\\partial h^{L-1}_i}{\\partial w^r_{pq}}\n",
    "\\nonumber\n",
    "\\\\\n",
    "&=&\n",
    "\\sum_j\n",
    "\\bigg(\n",
    "g'(h^{L-1}_j)\n",
    "\\sum_i\n",
    "w^L_{ij}\n",
    "D^L_i\n",
    "\\bigg)\n",
    "\\frac{\\partial h^{L-1}_i}{\\partial w^r_{pq}}\n",
    "\\nonumber\n",
    "\\\\\n",
    "&=&\n",
    "\\sum_j\n",
    "D^{L-1}_j\n",
    "\\frac{\\partial h^{L-1}_i}{\\partial w^r_{pq}}\n",
    "\\nonumber\n",
    "\\end{align} $$\n",
    "donde\n",
    "$$ \\begin{align}\n",
    "D^L_i:=(x^L_i-s_i)g'(h^L_i)\n",
    "\\;\\;\\;\\;\\;\\;\\;\\; (5)\n",
    "\\end{align} $$\n",
    "y\n",
    "$$\n",
    "D^{L-1}_j\n",
    ":=\n",
    "g'(h^{L-1}_j)\n",
    "\\sum_i\n",
    "w^L_{ij}\n",
    "D^L_i\n",
    "$$\n",
    "representan los *errores locales* de la $i$-ésima neurona en la $L$-ésima capa y la $j$-ésima neurona en la $(L-1)$-ésima capa, respectivamente.\n",
    "\n",
    "El anterior procedimiento puede continuarse capa por capa, con cada capa $l$ tal que $r<l$, de manera que\n",
    "$$ \\begin{align}\n",
    "\\frac{\\partial F}{\\partial w^r_{pq}}\n",
    "&=&\n",
    "\\sum_j D_j^l\n",
    "\\frac{\\partial h^l_j}{\\partial w^r_{pq}}\n",
    "\\nonumber\n",
    "\\end{align} $$\n",
    "donde\n",
    "$$ \\begin{align}\n",
    "D_j^l\n",
    ":=\n",
    "g'(h^{l}_j)\n",
    "\\sum_i w^{l+1}_{ij}D_i^{l+1}\n",
    "\\;\\;\\;\\;\\;\\;\\;\\; (6)\n",
    "\\end{align} $$\n",
    "hasta que eventualmente se alcanza la capa $l=r$, y se obtiene\n",
    "$$ \\begin{align}\n",
    "\\frac{\\partial F}{\\partial w^r_{pq}}\n",
    "&=&\n",
    "\\sum_j\n",
    "D_j^{r}\n",
    "\\frac{\\partial h^{r}_j}{\\partial w^r_{pq}}\n",
    "\\nonumber\n",
    "\\\\\n",
    "&=&\n",
    "\\sum_j\n",
    "D_j^{r}\n",
    "\\delta_{jp}\n",
    "x^{r-1}_q\n",
    "\\nonumber\n",
    "\\\\\n",
    "&=&\n",
    "D_p^{r}\n",
    "x^{r-1}_q\n",
    "\\nonumber\n",
    "\\end{align} $$\n",
    "En particular, este último resultado se verifica para el caso $r=L$ de $pq$ arbitrario.\n",
    "También se verifica para el caso en que $q=n^{r-1}+1$ y valores arbitrarios de $r$ y $p$, en donde $x_q^{r-1}=-1$ corresponde al estado fijo de la neurona en la capa $(r-1)$-ésima que permite simular la acción de umbrales en la capa $r$-ésima, tal como se describe en la Ec. 3.\n",
    "\n",
    "## El algoritmo de backpropagation\n",
    "\n",
    "Los resultados anteriores pueden condensarse en el llamado *algoritmo de backpropagation*, el cuál permite el cálculo del gradiente y la actualización de los pesos sinápticos, y consiste en la siguiente lista de pasos.\n",
    "Para cada ejemplo $m=1,...,M$, ejecutar:\n",
    "1. *Forward pass:* calcular la salida $x^L$ de la red ante la entrada $x^1=e^m$ utilizando las Ecs. 1 y 2. En el proceso, guardar los valores de activación $x^l$ y de los correspondientes campos locales $h^l$ obtenidos en las distintas capas $l=2,...,L$, ya que serán útiles más adelante.\n",
    "2. Calcular el vector de errores $D^L$ de la capa de salida utilizando la Ec. 5.\n",
    "3. Propagar los errores hacia atrás, i.e. calcular los errores $D^l$ para $l=L-1,L-2,...,1$ utilizando la Ec. 6.\n",
    "4. Para cada $l$, $i$ y $j$, calcular el gradiente $\\frac{\\partial F^m}{\\partial w^l_{ij}}$ utilizando la Ec. 7 y actualizar el correspondiente peso sináptico $w^l_{ij}$ utilizando la Ec. 4."
   ]
  },
  {
   "cell_type": "markdown",
   "metadata": {
    "id": "-XeWtDvx6C8A"
   },
   "source": [
    "## **Ejercicio 1**\n",
    "\n",
    "Genere un conjunto de entrenamiento compuesto por $M=\\sum_c m_c$ puntos en $\\mathbb{R}^{n_e}$ distribuidos en $n_s$ nubes de $m_c$ puntos.\n",
    "\n",
    "Para generar las nubes:\n",
    "\n",
    "* genere aleatoriamente $n_s$ puntos en $\\mathbb{R}^{n_e}$ a los que llamaremos centros, sorteando los valores de las coordenadas a partir de una distribución normal, y\n",
    "\n",
    "* para cada centro $c$, genere $m_c$ puntos aleatorios alrededor del mismo, sumando sus coordenadas a números aleatorios generados con una Gaussiana de varianza $\\sigma^2$.\n",
    "\n",
    "Las $n_e$ coordenadas del $m$-ésimo punto constituirán el vector de entrada del $m$-ésimo ejemplo.\n",
    "La nube a la que pertenece el $m$-ésimo punto determinará el vector de salida del $m$-ésimo ejemplo.\n",
    "Más precisamente, si el $m$-ésimo punto pertenence a la $c$-ésima nube, el vector de salida será el vector canónico $(0,0,...,1,...,0)$ de $n_s$ componentes con un único 1 en la $c$-esima posición.\n",
    "\n",
    "Concretamente\n",
    "\n",
    "1. Genere un conjunto de 8 puntos en $\\mathbb{R}^{n_e}$ con $n_e=2$, divididos en 3 nubes con $m_1=3$ en la primera nube, $m_2=2$ puntos en la segunda nube y $m_3=3$ puntos en la tercera nube. Utilice $\\sigma=0.1$ para indicar la dispersión de los puntos alrededor de cada nube.\n",
    "\n",
    "2. Grafique las nubes de puntos, utilizando un color distinto para cada una de ellas."
   ]
  },
  {
   "cell_type": "code",
   "execution_count": 1,
   "metadata": {},
   "outputs": [],
   "source": [
    "import numpy as np\n",
    "import matplotlib.pyplot as plt\n",
    "from tqdm import tqdm"
   ]
  },
  {
   "cell_type": "code",
   "execution_count": 2,
   "metadata": {},
   "outputs": [],
   "source": [
    "# 1.1)\n",
    "def generate_samples(list_m, n_e, sigma=0.1):\n",
    "    \"\"\"  \n",
    "    list_m: cantidad de muestras por clase (nube de puntos).\n",
    "    n_experiments: cantidad de neuronas de entrada. (parametros de la red)\n",
    "\n",
    "    la cantidad de neuronas de salida sera igual a la cantidad de elementos en list_m.\n",
    "    La salida esperada para cada vector de entrenamiento, esta dado por la nube a la que pertence:\n",
    "    - si corresponde a nube 1, la salida esperada sera [1, 0, 0, ..., 0]\n",
    "    - si corresponde a nube 2, la salida esperada sera [0, 1, 0, ..., 0] y asi sucesivamente.\n",
    "    \"\"\"\n",
    "    n_s = len(list_m) # numero de neuronas de salida\n",
    "    centers = np.random.normal(0, 1, (n_s, n_e)) # centros de las nubes de puntos\n",
    "\n",
    "    M = sum(list_m) # numero de muestras de entrenamiento\n",
    "    training_set = np.zeros((M, n_e+1)) # conjunto de entrenamiento de entrada M x n_e\n",
    "    trainning_set_output = np.zeros((M, n_s)) # conjunto de entrenamiento de salida M x n_s (cantidad de ejemplos x cantidad de neuronas de salida)\n",
    "    m = 0\n",
    "    for c in range(n_s): # por cada nube de puntos genero la cantidad de muestras especificadas en list_m a partir de su centro (centres[c])\n",
    "        for i in range(list_m[c]):\n",
    "            traning_vector = centers[c] + np.random.normal(0, sigma, n_e) # genero el vector de entrenamiento a partir del centro, sumandole un ruido gaussiano para cada coordenada\n",
    "            training_set[m] = np.append(traning_vector, -1) # agrego el vector de entrenamiento generado al conjunto de entrenamiento, pero agregandole la columna -1 al final del umbral\n",
    "            trainning_set_output[m] = np.zeros(n_s) # inicializo el vector de salida esperada\n",
    "            trainning_set_output[m][c] = 1 # seteo la salida esperada para el vector de entrenamiento generado segun la nube a la que pertenece\n",
    "            m += 1\n",
    "    return training_set, trainning_set_output"
   ]
  },
  {
   "cell_type": "code",
   "execution_count": 3,
   "metadata": {},
   "outputs": [
    {
     "data": {
      "image/png": "[encoded data removed]",
      "text/plain": [
       "<Figure size 640x480 with 1 Axes>"
      ]
     },
     "metadata": {},
     "output_type": "display_data"
    }
   ],
   "source": [
    "training_set,trainning_set_output = generate_samples([3,2,3], 2, 0.1)\n",
    "# 1.2) Graficar nubes de puntos\n",
    "def plot_samples(training_set, trainning_set_output):\n",
    "    n_s = trainning_set_output.shape[1]\n",
    "    for c in range(n_s):\n",
    "        plt.scatter(training_set[trainning_set_output[:,c] == 1, 0], training_set[trainning_set_output[:,c] == 1, 1], label=f'Nube {c+1}')\n",
    "    plt.xlabel('e_{m,1}')\n",
    "    plt.ylabel('e_{m,2}')\n",
    "    plt.legend()\n",
    "    plt.show()\n",
    "\n",
    "plot_samples(training_set, trainning_set_output)"
   ]
  },
  {
   "cell_type": "markdown",
   "metadata": {},
   "source": [
    "## **Ejercicio 2**\n",
    "\n",
    "1. Implemente un **perceptrón multicapa** con $n_e=2$ neuronas de entrada, una capa oculta de $n_o=2$ neuronas, y una capa de salida de $n_s=3$ neuronas. Recuerde, además, agregar las neuroas auxiliares que se utiliza para imitar los umbrales de activación. Utilice funciones de activación **sigmoideas**.\n",
    "\n",
    "2. Entrenelo sobre el conjunto de ejemplos generado en el Ejercicio 1. Para entrenarlo, utilice una tasa $\\eta=0.02$ y alrededor de 10.000 de épocas o más, según considere necesario.\n",
    "\n",
    "3. Grafique el error $E$ en función del número de épocas de entrenamiento.\n",
    "\n",
    "4. Luego, grafique nuevamente los puntos del Ejercicio 1, pintando el relleno de los mismos con los colores correspondiente a cada nube, y el borde de los mismos con el color correspondiente a la predicción obtenida con el **perceptrón multicapa**. Coinciden las predicciones con los colores originales?\n",
    "\n",
    "5. Repita los experimentos con funciones de activación **ReLUs**. Que ocurre?"
   ]
  },
  {
   "cell_type": "code",
   "execution_count": 4,
   "metadata": {},
   "outputs": [],
   "source": [
    "def forward_pass(x, w):\n",
    "    \"\"\"\n",
    "    x: vector de entrada\n",
    "    w: matriz de pesos\n",
    "    \"\"\"\n",
    "    return np.dot(w, x)"
   ]
  },
  {
   "cell_type": "code",
   "execution_count": 36,
   "metadata": {
    "id": "UjbcNI0a4ac3"
   },
   "outputs": [],
   "source": [
    "# 1.1) implementar back propagation para entrenar una red neuronal con una capa oculta\n",
    "def perceptron_multicapa(training_set, training_set_output, n_hidden, v_function, dv_function, g_function, dg_function, learning_rate=0.01, epochs=1000):\n",
    "    \"\"\"\n",
    "    training_set: conjunto de entrenamiento de entrada (incluye el umbral).\n",
    "    training_set_output: salida esperada para cada vector de entrenamiento.\n",
    "    n_hidden: número de neuronas en la capa oculta.\n",
    "    v_function: función de activación para la capa oculta.\n",
    "    dv_function: derivada de la función de activación de la capa oculta.\n",
    "    g_function: función de activación para la capa de salida.\n",
    "    dg_function: derivada de la función de activación de la capa de salida.\n",
    "\n",
    "    Retorna:\n",
    "    - W: matriz de pesos de la capa de entrada a la capa oculta.\n",
    "    - W_out: matriz de pesos de la capa oculta a la capa de salida.\n",
    "    - ecm: error cuadrático medio para cada época.\n",
    "    \"\"\"\n",
    "    n_e = training_set.shape[1]         # número de entradas (incluye umbral)\n",
    "    n_s = training_set_output.shape[1]  # número de neuronas de salida\n",
    "    n_h = n_hidden                      # número de neuronas en la capa oculta\n",
    "\n",
    "    # Inicialización de los pesos\n",
    "    W = np.random.normal(0, 1, (n_h, n_e))    # pesos de la capa de entrada a la capa oculta\n",
    "    W_out = np.random.normal(0, 1, (n_s, n_h + 1)) # pesos de la capa oculta a la capa de salida (n_h + 1 para incluir el umbral)\n",
    "\n",
    "    delta_W = np.zeros(W.shape)\n",
    "    delta_W_out = np.zeros(W_out.shape)\n",
    "\n",
    "    ecm = []\n",
    "    for _ in tqdm(range(epochs)):\n",
    "        delta_W.fill(0)\n",
    "        delta_W_out.fill(0)\n",
    "\n",
    "        ecm_epoch = 0\n",
    "\n",
    "        for m in range(training_set.shape[0]):\n",
    "            # calculo la salida de la capa oculta, no es necesario agregar el umbral porque se agrega en la capa de entrada\n",
    "            v_m_raw = forward_pass(training_set[m], W)\n",
    "            v_m = v_function(v_m_raw)\n",
    "            # agrego el umbral a la salida de la capa oculta\n",
    "            v_m = np.append(v_m, -1)\n",
    "            # calculo la salida de la capa de salida\n",
    "            O_m_raw = forward_pass(v_m, W_out)\n",
    "            O_m = g_function(O_m_raw)\n",
    "\n",
    "            # calculo primero el error de la capa de salida\n",
    "            error_O = dg_function(O_m_raw) * (training_set_output[m] - O_m) # delta de aprendizaje para la capa de salida\n",
    "            delta_W_out += np.outer(error_O, v_m)  # gradiente capa de salida\n",
    "\n",
    "            ecm_epoch += np.sum((training_set_output[m] - O_m)**2)\n",
    "\n",
    "            # calculo el error de la capa oculta\n",
    "            error_v = dv_function(v_m_raw) * np.dot(W_out[:, :-1].T, error_O) # delta de la capa oculta\n",
    "            delta_W += np.outer(error_v, training_set[m])                    # gradiente para W\n",
    "\n",
    "        # Actualización de los pesos\n",
    "        W -= learning_rate * delta_W\n",
    "        W_out -= learning_rate * delta_W_out\n",
    "\n",
    "        ecm.append(ecm_epoch * 0.5)\n",
    "        \n",
    "    return W, W_out, ecm"
   ]
  },
  {
   "cell_type": "code",
   "execution_count": 39,
   "metadata": {},
   "outputs": [
    {
     "name": "stderr",
     "output_type": "stream",
     "text": [
      "  0%|          | 0/100000 [00:00<?, ?it/s]/tmp/ipykernel_8563/3612856203.py:49: RuntimeWarning: overflow encountered in square\n",
      "  ecm_epoch += np.sum((training_set_output[m] - O_m)**2)\n",
      "/tmp/ipykernel_8563/3612856203.py:53: RuntimeWarning: invalid value encountered in add\n",
      "  delta_W += np.outer(error_v, training_set[m])                    # gradiente para W\n",
      "100%|██████████| 100000/100000 [00:21<00:00, 4583.11it/s]\n"
     ]
    }
   ],
   "source": [
    "# entrenar un perceptron multicapa con 2 entradas, 2 ocultas y 3 salidas\n",
    "training_set_ej2, training_set_output_ej2 = generate_samples([3,2,3], 2, 0.1)\n",
    "\n",
    "W_1, W_out_1, ecm = perceptron_multicapa(training_set_ej2, training_set_output_ej2, 2, lambda x: x, lambda x: 1, lambda x: x, lambda x: 1, learning_rate=0.02,epochs=100000)"
   ]
  },
  {
   "cell_type": "code",
   "execution_count": 40,
   "metadata": {},
   "outputs": [
    {
     "name": "stdout",
     "output_type": "stream",
     "text": [
      "[[nan nan]\n",
      " [nan nan]\n",
      " [nan nan]\n",
      " [nan nan]\n",
      " [nan nan]\n",
      " [nan nan]\n",
      " [nan nan]\n",
      " [nan nan]]\n",
      "[[nan nan nan]\n",
      " [nan nan nan]\n",
      " [nan nan nan]\n",
      " [nan nan nan]\n",
      " [nan nan nan]\n",
      " [nan nan nan]\n",
      " [nan nan nan]\n",
      " [nan nan nan]]\n"
     ]
    },
    {
     "data": {
      "image/png": "[encoded data removed]",
      "text/plain": [
       "<Figure size 1000x500 with 2 Axes>"
      ]
     },
     "metadata": {},
     "output_type": "display_data"
    }
   ],
   "source": [
    "fig, ax = plt.subplots(1, 2, figsize=(10, 5))\n",
    "\n",
    "# figura 1: ecm con las epcohs\n",
    "ax[0].plot(ecm)\n",
    "ax[0].set_xlabel('Epochs')\n",
    "ax[0].set_ylabel('ECM')\n",
    "\n",
    "# figura 2: puntos de entrenamiento, color de la salida esperada y color de la salida obtenida (como un circulo sin relleno)\n",
    "colors = ['red', 'green', 'blue']\n",
    "hiden_layer = np.array([forward_pass(x, W_1) for x in training_set_ej2])\n",
    "print(hiden_layer)\n",
    "output = np.array([forward_pass(np.append(x, -1), W_out_1) for x in hiden_layer])\n",
    "print(output)\n",
    "for c in range(training_set_output_ej2.shape[1]):\n",
    "    plt.scatter(training_set_ej2[training_set_output_ej2[:,c] == 1, 0], training_set_ej2[training_set_output_ej2[:,c] == 1, 1], color=colors[c], label=f'cat = {c+1}')\n",
    "    plt.scatter(training_set_ej2[output[:,c] > 0, 0], training_set_ej2[output[:,c] > 0, 1], facecolors='none', edgecolors=colors[c])\n",
    "\n",
    "plt.show()"
   ]
  },
  {
   "cell_type": "code",
   "execution_count": 8,
   "metadata": {},
   "outputs": [],
   "source": [
    "def relu(x):\n",
    "    return np.maximum(0, x)\n",
    "\n",
    "def drelu(x):\n",
    "    if x > 0:\n",
    "        return 1\n",
    "    return 0"
   ]
  },
  {
   "cell_type": "code",
   "execution_count": null,
   "metadata": {},
   "outputs": [
    {
     "name": "stderr",
     "output_type": "stream",
     "text": [
      "100%|██████████| 500000/500000 [04:17<00:00, 1939.74it/s]\n"
     ]
    }
   ],
   "source": [
    "training_set_ej2_2, training_set_output_ej2_2 = generate_samples([3,2,3], 2, 0.1)\n",
    "\n",
    "W_2, W_out_2, ecm = perceptron_multicapa(training_set_ej2_2, training_set_output_ej2_2, 2, relu, np.vectorize(drelu), relu, np.vectorize(drelu), learning_rate=0.02,epochs=500000)"
   ]
  },
  {
   "cell_type": "code",
   "execution_count": 10,
   "metadata": {},
   "outputs": [
    {
     "data": {
      "image/png": "[encoded data removed]",
      "text/plain": [
       "<Figure size 1000x500 with 2 Axes>"
      ]
     },
     "metadata": {},
     "output_type": "display_data"
    }
   ],
   "source": [
    "fig, ax = plt.subplots(1, 2, figsize=(10, 5))\n",
    "\n",
    "# figura 1: ecm con las epcohs\n",
    "ax[0].plot(ecm)\n",
    "ax[0].set_xlabel('Epochs')\n",
    "ax[0].set_ylabel('ECM')\n",
    "\n",
    "# figura 2: puntos de entrenamiento, color de la salida esperada y color de la salida obtenida (como un circulo sin relleno)\n",
    "colors = ['red', 'green', 'blue']\n",
    "hiden_layer = np.array([forward_pass(x, W_2) for x in training_set_ej2_2])\n",
    "output = np.array([forward_pass(np.append(x, -1), W_out_2) for x in hiden_layer])\n",
    "for c in range(training_set_output_ej2_2.shape[1]):\n",
    "    plt.scatter(training_set_ej2_2[training_set_output_ej2_2[:,c] == 1, 0], training_set_ej2_2[training_set_output_ej2_2[:,c] == 1, 1], color=colors[c], label=f'cat = {c+1}')\n",
    "    plt.scatter(training_set_ej2_2[output[:,c] > 0, 0], training_set_ej2_2[output[:,c] > 0, 1], facecolors='none', edgecolors=colors[c])\n",
    "\n",
    "plt.show()\n"
   ]
  },
  {
   "cell_type": "markdown",
   "metadata": {},
   "source": [
    "\n",
    "## **Ejercicio 3: la compuerta XOR**\n",
    "\n",
    "1. Fabrique un dataset con el siguiente conjunto de 4 ejemplos:\n",
    "\n",
    "    * $e_1 = (0,0)$, $s_1=(1,0)$\n",
    "    * $e_2 = (0,1)$, $s_2=(0,1)$\n",
    "    * $e_3 = (1,0)$, $s_3=(0,1)$\n",
    "    * $e_4 = (1,1)$, $s_4=(1,0)$\n",
    "    \n",
    "  corresponde a la compuerta XOR.\n",
    "\n",
    "2. Es el **perceptrón multicapa** capáz de aprender la compuerta XOR? Para responder esta pregunta, genere un **perceptrón multicapa** con $n_e=2$ neuronas de entrada, $n_o=2$ neuronas ocultas y $n_s=2$ neuronas de salida, y entrénelo utilizando el conjunto de ejemplos de la compuerta XOR.\n",
    "\n",
    "3. Como se compara el **perceptrón multicapa** con el **perceptrón monocapa** sobre la compuerta XOR? Para responder esta otra pregunta, genere otro perceptrón \"multicapa\", pero esta vez utilizando solo dos capas, una de entrada con $n_e=2$ neuronas y una de salida con $n_s=2$ neuronas (de manera tal que en realidad es un perceptron monocapa), y repita el experimento anterior con los ejemplos de la compuerta XOR.\n",
    "\n",
    "4. Repita los experimentos con funciones de activación **ReLUs**. Que ocurre?"
   ]
  },
  {
   "cell_type": "code",
   "execution_count": 11,
   "metadata": {},
   "outputs": [],
   "source": [
    "# generar conjunto de entrenamiento de compuerta XOR\n",
    "# 2 neuronas de entrada, 2 neuronas de salida\n",
    "training_set_ej3 = np.array([[0,0,-1],\n",
    "                             [0,1,-1],\n",
    "                             [1,0,-1],\n",
    "                             [1,1,-1]])\n",
    "training_set_output_ej3 = np.array([[1,0],\n",
    "                                    [0,1],\n",
    "                                    [0,1],\n",
    "                                    [1,0]])"
   ]
  },
  {
   "cell_type": "code",
   "execution_count": 19,
   "metadata": {},
   "outputs": [
    {
     "name": "stderr",
     "output_type": "stream",
     "text": [
      "100%|██████████| 100000/100000 [00:11<00:00, 8450.73it/s]\n"
     ]
    }
   ],
   "source": [
    "w_3, w_out_3, ecm_3 = perceptron_multicapa(training_set_ej3, training_set_output_ej3, 2, lambda x: x, lambda x: 1, lambda x: x, lambda x: 1, learning_rate=0.02,epochs=100000)"
   ]
  },
  {
   "cell_type": "code",
   "execution_count": 20,
   "metadata": {},
   "outputs": [
    {
     "data": {
      "text/plain": [
       "<matplotlib.collections.PathCollection at 0x795774f737f0>"
      ]
     },
     "execution_count": 20,
     "metadata": {},
     "output_type": "execute_result"
    },
    {
     "data": {
      "image/png": "[encoded data removed]",
      "text/plain": [
       "<Figure size 640x480 with 1 Axes>"
      ]
     },
     "metadata": {},
     "output_type": "display_data"
    }
   ],
   "source": [
    "# grafico el resultado de el entrenamiento de una compuerta XOR\n",
    "\n",
    "plt.scatter(training_set_ej3[training_set_output_ej3[:,0] == 1, 0], training_set_ej3[training_set_output_ej3[:,0] == 1, 1], color='red', label='cat = 1')\n",
    "plt.scatter(training_set_ej3[training_set_output_ej3[:,1] == 1, 0], training_set_ej3[training_set_output_ej3[:,1] == 1, 1], color='green', label='cat = 2')\n"
   ]
  },
  {
   "cell_type": "code",
   "execution_count": 21,
   "metadata": {},
   "outputs": [
    {
     "name": "stderr",
     "output_type": "stream",
     "text": [
      "100%|██████████| 100000/100000 [00:26<00:00, 3741.52it/s]\n"
     ]
    }
   ],
   "source": [
    "# entreno utilizando funciones RELU\n",
    "w_4, w_out_4, ecm_4 = perceptron_multicapa(training_set_ej3, training_set_output_ej3, 2, relu, np.vectorize(drelu), relu, np.vectorize(drelu), learning_rate=0.02,epochs=100000)"
   ]
  }
 ],
 "metadata": {
  "colab": {
   "provenance": []
  },
  "kernelspec": {
   "display_name": "LCC",
   "language": "python",
   "name": "python3"
  },
  "language_info": {
   "codemirror_mode": {
    "name": "ipython",
    "version": 3
   },
   "file_extension": ".py",
   "mimetype": "text/x-python",
   "name": "python",
   "nbconvert_exporter": "python",
   "pygments_lexer": "ipython3",
   "version": "3.10.14"
  }
 },
 "nbformat": 4,
 "nbformat_minor": 0
}
